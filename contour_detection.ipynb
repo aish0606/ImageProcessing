{
  "nbformat": 4,
  "nbformat_minor": 0,
  "metadata": {
    "colab": {
      "name": "contour_detection.ipynb",
      "provenance": [],
      "authorship_tag": "ABX9TyNYhkThk1/6LWZyclgFxt8L",
      "include_colab_link": true
    },
    "kernelspec": {
      "name": "python3",
      "display_name": "Python 3"
    }
  },
  "cells": [
    {
      "cell_type": "markdown",
      "metadata": {
        "id": "view-in-github",
        "colab_type": "text"
      },
      "source": [
        "<a href=\"https://colab.research.google.com/github/aish0606/ImageProcessing/blob/main/contour_detection.ipynb\" target=\"_parent\"><img src=\"https://colab.research.google.com/assets/colab-badge.svg\" alt=\"Open In Colab\"/></a>"
      ]
    },
    {
      "cell_type": "code",
      "metadata": {
        "colab": {
          "base_uri": "https://localhost:8080/"
        },
        "id": "xJSIF7WRYVgX",
        "outputId": "80ce746e-8e33-4dcf-e303-80a688d36ce5"
      },
      "source": [
        "from google.colab import drive\r\n",
        "drive.mount('/gdrive')"
      ],
      "execution_count": 3,
      "outputs": [
        {
          "output_type": "stream",
          "text": [
            "Drive already mounted at /gdrive; to attempt to forcibly remount, call drive.mount(\"/gdrive\", force_remount=True).\n"
          ],
          "name": "stdout"
        }
      ]
    },
    {
      "cell_type": "code",
      "metadata": {
        "id": "4cWnMeKuLCY_"
      },
      "source": [
        "%cp -r /gdrive/MyDrive/DATA ."
      ],
      "execution_count": 2,
      "outputs": []
    },
    {
      "cell_type": "code",
      "metadata": {
        "id": "wuof12BwLLvJ"
      },
      "source": [
        "import cv2\r\n",
        "import numpy as np\r\n",
        "import matplotlib.pyplot as plt\r\n",
        "%matplotlib inline"
      ],
      "execution_count": 26,
      "outputs": []
    },
    {
      "cell_type": "code",
      "metadata": {
        "id": "w__ujDSaLO_7"
      },
      "source": [
        "img = cv2.imread('DATA/internal_external.png', 0)"
      ],
      "execution_count": 5,
      "outputs": []
    },
    {
      "cell_type": "code",
      "metadata": {
        "colab": {
          "base_uri": "https://localhost:8080/",
          "height": 291
        },
        "id": "_lW_QwWuLmUx",
        "outputId": "944c60ea-e661-4a39-9f7a-c933713b81af"
      },
      "source": [
        "print(img.shape)\r\n",
        "plt.imshow(img, cmap='gray')"
      ],
      "execution_count": 6,
      "outputs": [
        {
          "output_type": "stream",
          "text": [
            "(652, 1080)\n"
          ],
          "name": "stdout"
        },
        {
          "output_type": "execute_result",
          "data": {
            "text/plain": [
              "<matplotlib.image.AxesImage at 0x7fad338866a0>"
            ]
          },
          "metadata": {
            "tags": []
          },
          "execution_count": 6
        },
        {
          "output_type": "display_data",
          "data": {
            "image/png": "[encoded data removed]",
            "text/plain": [
              "<Figure size 432x288 with 1 Axes>"
            ]
          },
          "metadata": {
            "tags": [],
            "needs_background": "light"
          }
        }
      ]
    },
    {
      "cell_type": "code",
      "metadata": {
        "id": "lOH3XhgjLsXV"
      },
      "source": [
        "contour, hierarchy = cv2.findContours(img, cv2.RETR_CCOMP, cv2.CHAIN_APPROX_SIMPLE)"
      ],
      "execution_count": 7,
      "outputs": []
    },
    {
      "cell_type": "code",
      "metadata": {
        "colab": {
          "base_uri": "https://localhost:8080/"
        },
        "id": "dispBlMCMqzW",
        "outputId": "f267453e-9c21-47d1-faa0-4335d606a625"
      },
      "source": [
        "print(len(contour))\r\n",
        "print(hierarchy)\r\n",
        "# Here [ 4 -1  1 -1] -1 means external contour\r\n",
        "# [ 2 -1 -1  0] 0, 4 & other +ve number means internal contour"
      ],
      "execution_count": 23,
      "outputs": [
        {
          "output_type": "stream",
          "text": [
            "22\n",
            "[[[ 4 -1  1 -1]\n",
            "  [ 2 -1 -1  0]\n",
            "  [ 3  1 -1  0]\n",
            "  [-1  2 -1  0]\n",
            "  [21  0  5 -1]\n",
            "  [ 6 -1 -1  4]\n",
            "  [ 7  5 -1  4]\n",
            "  [ 8  6 -1  4]\n",
            "  [ 9  7 -1  4]\n",
            "  [10  8 -1  4]\n",
            "  [11  9 -1  4]\n",
            "  [12 10 -1  4]\n",
            "  [13 11 -1  4]\n",
            "  [14 12 -1  4]\n",
            "  [15 13 -1  4]\n",
            "  [16 14 -1  4]\n",
            "  [17 15 -1  4]\n",
            "  [18 16 -1  4]\n",
            "  [19 17 -1  4]\n",
            "  [20 18 -1  4]\n",
            "  [-1 19 -1  4]\n",
            "  [-1  4 -1 -1]]]\n"
          ],
          "name": "stdout"
        }
      ]
    },
    {
      "cell_type": "code",
      "metadata": {
        "id": "BaB7x6yLMx3n"
      },
      "source": [
        "external_contour = np.zeros(img.shape)"
      ],
      "execution_count": 39,
      "outputs": []
    },
    {
      "cell_type": "code",
      "metadata": {
        "id": "LdJSPs23zenh"
      },
      "source": [
        "# if we need to draw all the detected contour we can simply call \r\n",
        "# cv2.drawContour and instaed of i pass -1\r\n",
        "for i in range(len(contour)):\r\n",
        "  # Drawing external contour\r\n",
        "  if hierarchy[0][i][3] == -1:\r\n",
        "    # if thickness = -1, it will fill the contour\r\n",
        "    cv2.drawContours(external_contour, contour, i, 255, 5)\r\n",
        "    "
      ],
      "execution_count": 40,
      "outputs": []
    },
    {
      "cell_type": "code",
      "metadata": {
        "colab": {
          "base_uri": "https://localhost:8080/",
          "height": 272
        },
        "id": "kL4Rl-wDATLR",
        "outputId": "12ca68d7-009d-4875-c587-48886a7307ba"
      },
      "source": [
        "plt.imshow(external_contour, cmap='gray')"
      ],
      "execution_count": 41,
      "outputs": [
        {
          "output_type": "execute_result",
          "data": {
            "text/plain": [
              "<matplotlib.image.AxesImage at 0x7fad2a9a7160>"
            ]
          },
          "metadata": {
            "tags": []
          },
          "execution_count": 41
        },
        {
          "output_type": "display_data",
          "data": {
            "image/png": "[encoded data removed]",
            "text/plain": [
              "<Figure size 432x288 with 1 Axes>"
            ]
          },
          "metadata": {
            "tags": [],
            "needs_background": "light"
          }
        }
      ]
    },
    {
      "cell_type": "code",
      "metadata": {
        "id": "wNB6Y-1cAV3r"
      },
      "source": [
        "internal_contour = np.zeros(img.shape)\r\n",
        "for i in range(len(contour)):\r\n",
        "  # Internal contour \r\n",
        "  if hierarchy[0][i][3] != -1:\r\n",
        "    cv2.drawContours(internal_contour, contour, i, 255, -1)"
      ],
      "execution_count": 51,
      "outputs": []
    },
    {
      "cell_type": "code",
      "metadata": {
        "colab": {
          "base_uri": "https://localhost:8080/",
          "height": 272
        },
        "id": "l43kneQeBeKm",
        "outputId": "f18111fa-3ff1-4050-d85c-1d9320eed28a"
      },
      "source": [
        "plt.imshow(internal_contour, cmap='gray')"
      ],
      "execution_count": 52,
      "outputs": [
        {
          "output_type": "execute_result",
          "data": {
            "text/plain": [
              "<matplotlib.image.AxesImage at 0x7fad2a5a2f28>"
            ]
          },
          "metadata": {
            "tags": []
          },
          "execution_count": 52
        },
        {
          "output_type": "display_data",
          "data": {
            "image/png": "[encoded data removed]",
            "text/plain": [
              "<Figure size 432x288 with 1 Axes>"
            ]
          },
          "metadata": {
            "tags": [],
            "needs_background": "light"
          }
        }
      ]
    },
    {
      "cell_type": "code",
      "metadata": {
        "colab": {
          "base_uri": "https://localhost:8080/",
          "height": 272
        },
        "id": "3k_gy3uoBgjE",
        "outputId": "d56afe53-cadd-44f0-d413-c0b90274b379"
      },
      "source": [
        "internal_contour = np.zeros(img.shape)\r\n",
        "for i in range(len(contour)):\r\n",
        "  # Internal contour \r\n",
        "  # [ 6 -1 -1  4] last value of contour is 4\r\n",
        "  if hierarchy[0][i][3] == 4:\r\n",
        "    cv2.drawContours(internal_contour, contour, i, 255, -1)\r\n",
        "\r\n",
        "\r\n",
        "plt.imshow(internal_contour, cmap='gray')"
      ],
      "execution_count": 54,
      "outputs": [
        {
          "output_type": "execute_result",
          "data": {
            "text/plain": [
              "<matplotlib.image.AxesImage at 0x7fad2a4e8d30>"
            ]
          },
          "metadata": {
            "tags": []
          },
          "execution_count": 54
        },
        {
          "output_type": "display_data",
          "data": {
            "image/png": "[encoded data removed]",
            "text/plain": [
              "<Figure size 432x288 with 1 Axes>"
            ]
          },
          "metadata": {
            "tags": [],
            "needs_background": "light"
          }
        }
      ]
    },
    {
      "cell_type": "code",
      "metadata": {
        "colab": {
          "base_uri": "https://localhost:8080/",
          "height": 272
        },
        "id": "6iIELqT1CiHR",
        "outputId": "ce38c202-f89a-4e81-d44a-d19002ad4094"
      },
      "source": [
        "internal_contour = np.zeros(img.shape)\r\n",
        "for i in range(len(contour)):\r\n",
        "  # Internal contour \r\n",
        "  # [ 2 -1 -1  0] last value of contour is 0\r\n",
        "  if hierarchy[0][i][3] == 0:\r\n",
        "    cv2.drawContours(internal_contour, contour, i, 255, -1)\r\n",
        "\r\n",
        "\r\n",
        "plt.imshow(internal_contour, cmap='gray')"
      ],
      "execution_count": 56,
      "outputs": [
        {
          "output_type": "execute_result",
          "data": {
            "text/plain": [
              "<matplotlib.image.AxesImage at 0x7fad2ab48d68>"
            ]
          },
          "metadata": {
            "tags": []
          },
          "execution_count": 56
        },
        {
          "output_type": "display_data",
          "data": {
            "image/png": "[encoded data removed]",
            "text/plain": [
              "<Figure size 432x288 with 1 Axes>"
            ]
          },
          "metadata": {
            "tags": [],
            "needs_background": "light"
          }
        }
      ]
    },
    {
      "cell_type": "code",
      "metadata": {
        "id": "ZUZOlwXyCogl"
      },
      "source": [
        ""
      ],
      "execution_count": null,
      "outputs": []
    }
  ]
}